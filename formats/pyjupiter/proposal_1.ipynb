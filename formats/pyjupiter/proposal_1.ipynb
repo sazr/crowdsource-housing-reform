{
 "cells": [
  {
   "cell_type": "markdown",
   "metadata": {},
   "source": [
    "#### \"Highest bid no longer the best bid\" - No CGT on any investment sales for 2 years or a tax refund for sellers who sell to PPOR buyers under 45yo."
   ]
  },
  {
   "cell_type": "markdown",
   "metadata": {},
   "source": [
    "Example; John (IS) is selling his investment property and receives 3 offers; $675k from Jane (PPORBO45), $673k from Rod (IB), $670k from Cindy (PPORBU45). Cindy is a PPOR buyer under 45yo. If John decides to take Cindy's offer he will walk away with more money in his hands even though Cindy's offer is not the highest bid - when he takes into account the lack of CGT applied to his sale and any other investments he decides to cash out in the next 2 years."
   ]
  },
  {
   "cell_type": "markdown",
   "metadata": {},
   "source": [
    "#### Stakeholders\n",
    "\n",
    "- PPOR Sellers\n",
    "- Investment Sellers\n",
    "- PPOR Buyers\n",
    "- Investment Buyers\n",
    "- State Government\n",
    "- Federal Government\n",
    "- Real Estate Agent"
   ]
  },
  {
   "cell_type": "markdown",
   "metadata": {},
   "source": [
    "#### Impacts of proposal on stakeholders\n",
    "\n",
    "**Postitive**\n",
    "\n",
    "\n",
    "**Negative**\n",
    "\n",
    "- The RA will make less money per sale in this proposal. In the example given above, the RA would make about $200 less or about 0.8% less had the IS taken the biggest offer.\n",
    "- If all bidders are PPORB under 45yo's the proposal fails to achieve it's goal of \"Highest bid no longer the best bid\". In the example given above, John will most likely take the highest bid.\n",
    "    - In this scenario, it can still be argued that the proposal encouraged John to sell his property in the first case - the impact of which is increasing the supply of properties for sale.\n",
    "- PPORB over 45yo and IB can be discouraged engaging in the market at all whilst this proposal is active. \n",
    "    - In this scenario, it can still be argued that the proposal has reduced the total number of bidders on a given property thus competition for buying properties and only encouraged buyers whose purpose is shelter over investment.\n",
    "- PPORB over 45yo's and IB will be encouraged to make even higher bids - causing even higher sale prices. In the example given above, the RA informs Jane that the seller (John) is considering going with a lower offer made by a PPORU45. Jane decides to counter -offer $715k. \n",
    "    - Depending on how much John originally purchased the property, this offer may still not work out as more money when CGT is taken into account. And John could decides to also sell some of his stocks in the next 2 years and again profit from lack of CGT."
   ]
  },
  {
   "cell_type": "markdown",
   "metadata": {},
   "source": [
    "#### Impacts of proposal on the market\n",
    "\n",
    "**Postitive**\n",
    "- Increase supply of money in the economy. In the example given above, John decides to take advantage of his 2 years CGT freeze and sell 25% of his stock investments. He purchases a caravan and decided to go on a roadtrip around Australia for 3 months.\n",
    "\n",
    "**Negative**"
   ]
  }
 ],
 "metadata": {
  "kernelspec": {
   "display_name": "Python 3.10.4 64-bit",
   "language": "python",
   "name": "python3"
  },
  "language_info": {
   "codemirror_mode": {
    "name": "ipython",
    "version": 3
   },
   "file_extension": ".py",
   "mimetype": "text/x-python",
   "name": "python",
   "nbconvert_exporter": "python",
   "pygments_lexer": "ipython3",
   "version": "3.10.4"
  },
  "orig_nbformat": 4,
  "vscode": {
   "interpreter": {
    "hash": "beedbe2faf2f7048d727558d0bc3221e7eba2a0b921cac4d4771b2feb8f74b30"
   }
  }
 },
 "nbformat": 4,
 "nbformat_minor": 2
}
