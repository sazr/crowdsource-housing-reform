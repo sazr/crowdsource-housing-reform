{
 "cells": [
  {
   "cell_type": "markdown",
   "metadata": {},
   "source": [
    "# Policy Proposals\n",
    "\n",
    "- \"Highest bid no longer the best bid\" - No CGT on any investment sales for 2 years or a tax refund for sellers who sell to PPOR buyers under 45yo (PPORU45).\n",
    "- \"Housing supply is there, just not being used\" - 2 years tax refund or rebate for renting out a Deceased estate, Holiday rental, AirBnB rental, Holiday home or vacant house.\n",
    "- \"Downsize and make money and house your grand-children\" - no CGT on any investment sales or rebate if a retiree sells or rents their house and moves to a retirement village or assisted living facility.\n",
    "- Minimum and target number of rentals per region by federal and/or state governments.\n",
    "- Minimum number of public housing/social housing per region by federal and/or state governments.\n",
    "- Low occupant to bedroom ratio tax - tax or limit tax deductions on households that have vacant rooms.\n",
    "- Local Government buildings as night refuges: Allow local governments, in times of low housing availablilty, to use government buildings to support homeless.\n",
    "- Disallow rental application questions that inaccurately or negatively impact an applicants application.\n",
    "- Better negotiating power for tenant on begin of tenancy dates.\n",
    "- Tiered Tax for \"Landlord Barons\"\n",
    "- Regulate rent: tie rents to 25% of median wage **From Renters and Housing Union\n",
    "- Limit rent increases to below Consumer Price Index **From Renters and Housing Union\n",
    "- Increase protections for renters including No Adverse Action **From Renters and Housing Union\n",
    "- Apply and enforce penalties to agents and landlords for breaches to renters rights **From Renters and Housing Union"
   ]
  },
  {
   "cell_type": "markdown",
   "metadata": {},
   "source": [
    "### Purpose\n",
    "\n",
    "\"A traditional list of immediate \"basic needs\" is food (including water), shelter and clothing.[3] Many modern lists emphasize the minimum level of consumption of \"basic needs\" of not just food, water, clothing and shelter, but also sanitation, education, and healthcare. Different agencies use different lists. \"\n",
    "\n",
    "Let's be honest, things have changed in Australia, many Australians are struggling to fulfil the basic need of Shelter. This basic need is no longer as easy to obtain as it was. New difficulties and issues have arisen that previous generations never faced. \n",
    "\n",
    "Legislation and reform is required to address these new issues and give future generations the same shelter opportunities that previous ones had.\n",
    "\n",
    "The purpose is to articulate legislation and other actions that can be taken to make it easier, faster and less costly to secure rental accomodation or purchase a principal place of residence."
   ]
  },
  {
   "cell_type": "markdown",
   "metadata": {},
   "source": [
    "### Policy Objectives\n",
    "\n",
    "- Not reinvent the wheel - copy models of real estate markets that have a better balance between shelter and investment. For example German Real Estate.\n",
    "- Implement policies who's primary concern is making  property a basic need first and a money making vehicle second.\n",
    "- Create a fairer environment for tenants \n",
    "- Provide rental stability and housing stability\n",
    "- Reduce the time and effort required to secure a rental\n",
    "- Address \"Too poor to buy a house, too rich to rent\"\n",
    "- Implement policies who's primary concern is making  property a basic need first and a money making vehicle second.\n",
    "- Not reinvent the wheel - copy models of real estate markets that have a better balance between shelter and investment. For example German Real Estate."
   ]
  },
  {
   "cell_type": "markdown",
   "metadata": {},
   "source": [
    "#### Aconymns\n",
    "\n",
    "- IS - Investment Property Seller \n",
    "- IB - Investment Property Buyer\n",
    "- PPORS - Primary place of residence seller (any age)\n",
    "- PPORB - Primary place of residence buyer (any age)\n",
    "- PPORBU45 - Primary place of residence buyer who is under 45yo\n",
    "- PPORBO45 - Primary place of residence buyer who is over 45yo\n",
    "- RA - Real Estate Agent\n",
    "- PM - Property manager\n",
    "- SG - State Government\n",
    "- FG - Federal Government\n",
    "- LI - Bank/Lending Institution"
   ]
  },
  {
   "cell_type": "markdown",
   "metadata": {},
   "source": [
    "### Problems\n",
    "\n",
    "Problems currently faced by Australians seeking shelter:\n",
    "\n",
    "- \"Choice between shelter or employment\" - Rental inspections are held during work hours 10am-4pm. REA's won't accept an application if you haven't viewed the property.\n",
    "- \"1980's Application Methods Only\" - REA's only accept paper application forms. Prospective tenants fill out an average of 16 applications before securing a rental. Requires printer availability, scanner, printer fees, physically drop in application.\n",
    "- Questions on rental applications that inaccurately negatively impact an applicants application \"Was your bond returned in full from your last tenancy\"\n",
    "- The hidden fee's of renting\n",
    "- The basic need of shelter in Australia is unstable: \n",
    "    - Only 6 month tenancies max\n",
    "    - Time required to attend applications\n",
    "    - Threat of bond fees means fear of using rental\n",
    "    - Moving requires alot of time, effort and money\n",
    "    - Doubling up of rent between ending one tenancy and beginning the next (2 weeks overlap).\n",
    "- Too poor to buy, too rich to rent\n",
    "- Tenants implicitly liable for house maintenance (remove palm fronds, remove grass clippings, clean awnings)\n",
    "- \"Even if you win, you loose\" - Power imbalance between tenants and the landlord/Property Manager. Even mechanisms to solve disputes can lead to indirect negative outcomes for the tenant. Possible to be abused.\n",
    "- Holding of bond open to abuse by property managers."
   ]
  },
  {
   "cell_type": "markdown",
   "metadata": {},
   "source": [
    "#### Meta\n",
    "\n",
    "- These policies need criticism and input from technical people (politicians, bureaucrats, community members, etc.). \n",
    "- Create a website for this\n",
    "- Use a better suited medium rather than github\n",
    "- As of 24/10/2022 these policies have been created in a realpolitik manor with policies that use carrots rather than sticks. The reason for this is past Australian government reluctance to intervene in the property market for fear of affecting the property investors."
   ]
  }
 ],
 "metadata": {
  "kernelspec": {
   "display_name": "Python 3.10.4 64-bit",
   "language": "python",
   "name": "python3"
  },
  "language_info": {
   "codemirror_mode": {
    "name": "ipython",
    "version": 3
   },
   "file_extension": ".py",
   "mimetype": "text/x-python",
   "name": "python",
   "nbconvert_exporter": "python",
   "pygments_lexer": "ipython3",
   "version": "3.10.4"
  },
  "orig_nbformat": 4,
  "vscode": {
   "interpreter": {
    "hash": "beedbe2faf2f7048d727558d0bc3221e7eba2a0b921cac4d4771b2feb8f74b30"
   }
  }
 },
 "nbformat": 4,
 "nbformat_minor": 2
}
