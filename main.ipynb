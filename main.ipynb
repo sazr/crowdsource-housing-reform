{
 "cells": [
  {
   "cell_type": "markdown",
   "metadata": {},
   "source": [
    "# Reform \n",
    "\n",
    "- \"Highest bid no longer the best bid\" - No CGT on any investment sales for 2 years or a tax refund for sellers who sell to PPOR buyers under 45yo.\n",
    "- \"Housing supply is there, just not being used\" - 2 years tax refund or rebate for renting out a Deceased estate, Holiday rental, AirBnB rental, Holiday home, vacant house.\n",
    "- \"Downsize and make money and house your grand-children\" - no CGT on any investment sales or rebate if retiree sells or rents their house and moves to a retirement/assisted living\n",
    "- \"\" - Minimum number of rentals per region\n",
    "- \"\" - Minimum number of social housing per region\n",
    "- \"\" - Low occupant to bedroom ratio tax - tax or limit tax deductions on households that have vacant rooms.\n",
    "- Local Government buildings as night refuges: Allow local governments to use in times of low housing availablilty to use government buildings to support homeless.\n",
    "- Disallow rental application questions that inaccurately negatively impact an applicants application.\n",
    "- Better negotiating power for tenant on begin of tenancy dates."
   ]
  },
  {
   "cell_type": "markdown",
   "metadata": {},
   "source": [
    "### Purpose\n",
    "\n",
    "\"A traditional list of immediate \"basic needs\" is food (including water), shelter and clothing.[3] Many modern lists emphasize the minimum level of consumption of \"basic needs\" of not just food, water, clothing and shelter, but also sanitation, education, and healthcare. Different agencies use different lists. \"\n",
    "\n",
    "Let's be honest, things have changed in Australia, many Australians are struggling to fulfil the basic need of Shelter. This basic need is no longer as easy to obtain as it was. New difficulties and issues have arisen that previous generations never faced. \n",
    "\n",
    "Legislation and reform is required to address these new issues and give future generations the same shelter opportunities that previous ones had.\n",
    "\n",
    "The purpose is to articulate legislation and other actions that can be taken to make is easier, faster and less costly to secure rental accomodation or purchase a principal place of residence."
   ]
  },
  {
   "cell_type": "markdown",
   "metadata": {},
   "source": [
    "### Objectives\n",
    "\n",
    "- Fairness for tenants \n",
    "- Rental Stability \n",
    "- Reduce the time and effort required to secure a rental\n",
    "- Address \"Too poor to buy a house, too rich to rent\""
   ]
  },
  {
   "cell_type": "markdown",
   "metadata": {},
   "source": [
    "### Problems\n",
    "\n",
    "- \"Choice between shelter or employment\" - Rental inspections are held during work hours 10am-4pm. REA's won't accept an application if you haven't viewed the property.\n",
    "- \"1980's Application Methods Only\" - REA's only accept paper application forms. Prospective tenants fill out an average of 16 applications before securing a rental. Requires printer availability, scanner, printer fees, physically drop in application.\n",
    "- Questions on rental applications that inaccurately negatively impact an applicants application \"Was your bond returned in full from your last tenancy\"\n",
    "- The hidden fee's of renting\n",
    "- The basic need of shelter in Australia is unstable: \n",
    "    - Only 6 month tenancies max\n",
    "    - Time required to attend applications\n",
    "    - Threat of bond fees means fear of using rental\n",
    "    - Moving requires alot of time, effort and money\n",
    "    - Doubling up of rent between ending one tenancy and beginning the next (2 weeks overlap).\n",
    "- Too poor to buy, too rich to rent\n",
    "- Tenants implicitly liable for house maintenance (remove palm fronds, remove grass clippings, clean awnings)\n",
    "- \"Even if you win, you loose\" - Power imbalance between tenants and the landlord/Property Manager. Even mechanisms to solve disputes can lead to indirect negative outcomes for the tenant. Possible to be abused.\n",
    "- Holding of bond open to abuse by property managers."
   ]
  }
 ],
 "metadata": {
  "kernelspec": {
   "display_name": "Python 3.10.4 64-bit",
   "language": "python",
   "name": "python3"
  },
  "language_info": {
   "codemirror_mode": {
    "name": "ipython",
    "version": 3
   },
   "file_extension": ".py",
   "mimetype": "text/x-python",
   "name": "python",
   "nbconvert_exporter": "python",
   "pygments_lexer": "ipython3",
   "version": "3.10.4"
  },
  "orig_nbformat": 4,
  "vscode": {
   "interpreter": {
    "hash": "beedbe2faf2f7048d727558d0bc3221e7eba2a0b921cac4d4771b2feb8f74b30"
   }
  }
 },
 "nbformat": 4,
 "nbformat_minor": 2
}
